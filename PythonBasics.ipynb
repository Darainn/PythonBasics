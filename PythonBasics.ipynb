{
  "nbformat": 4,
  "nbformat_minor": 0,
  "metadata": {
    "colab": {
      "name": "PythonBasics.ipynb",
      "provenance": [],
      "authorship_tag": "ABX9TyM5yCcT53zs+wnv1gpIuCK9",
      "include_colab_link": true
    },
    "kernelspec": {
      "name": "python3",
      "display_name": "Python 3"
    }
  },
  "cells": [
    {
      "cell_type": "markdown",
      "metadata": {
        "id": "view-in-github",
        "colab_type": "text"
      },
      "source": [
        "<a href=\"https://colab.research.google.com/github/Darainn/PythonBasics/blob/main/PythonBasics.ipynb\" target=\"_parent\"><img src=\"https://colab.research.google.com/assets/colab-badge.svg\" alt=\"Open In Colab\"/></a>"
      ]
    },
    {
      "cell_type": "code",
      "metadata": {
        "colab": {
          "base_uri": "https://localhost:8080/"
        },
        "id": "EleSbtMZKskP",
        "outputId": "508aad04-aa34-4f31-99b1-15ba187cc3aa"
      },
      "source": [
        "print(\"hello\")"
      ],
      "execution_count": null,
      "outputs": [
        {
          "output_type": "stream",
          "text": [
            "hello\n"
          ],
          "name": "stdout"
        }
      ]
    },
    {
      "cell_type": "code",
      "metadata": {
        "colab": {
          "base_uri": "https://localhost:8080/"
        },
        "id": "Hf1db2Q3K5hf",
        "outputId": "0d8913f0-c100-4fc2-888b-efc9abaeb41c"
      },
      "source": [
        "print(f' hello')"
      ],
      "execution_count": null,
      "outputs": [
        {
          "output_type": "stream",
          "text": [
            " hello\n"
          ],
          "name": "stdout"
        }
      ]
    },
    {
      "cell_type": "code",
      "metadata": {
        "colab": {
          "base_uri": "https://localhost:8080/"
        },
        "id": "Uu3IlkUgL_ne",
        "outputId": "b6b7c614-5803-45e1-d553-ec87975d393f"
      },
      "source": [
        "num = 2\r\n",
        "num"
      ],
      "execution_count": null,
      "outputs": [
        {
          "output_type": "execute_result",
          "data": {
            "text/plain": [
              "2"
            ]
          },
          "metadata": {
            "tags": []
          },
          "execution_count": 4
        }
      ]
    },
    {
      "cell_type": "code",
      "metadata": {
        "colab": {
          "base_uri": "https://localhost:8080/"
        },
        "id": "TcWIDQhPMOXz",
        "outputId": "64b8c3d2-f9c3-49c9-c787-9bf78512fe8b"
      },
      "source": [
        "#no constant , but variable\r\n",
        "num = 4\r\n",
        "num"
      ],
      "execution_count": null,
      "outputs": [
        {
          "output_type": "execute_result",
          "data": {
            "text/plain": [
              "4"
            ]
          },
          "metadata": {
            "tags": []
          },
          "execution_count": 12
        }
      ]
    },
    {
      "cell_type": "code",
      "metadata": {
        "colab": {
          "base_uri": "https://localhost:8080/",
          "height": 35
        },
        "id": "LTot_RZmMk-x",
        "outputId": "f7b51202-0ec2-4d6f-d97e-e4295879875d"
      },
      "source": [
        "#dynamic typing\r\n",
        "num = \"hello\"\r\n",
        "num\r\n",
        "\r\n"
      ],
      "execution_count": null,
      "outputs": [
        {
          "output_type": "execute_result",
          "data": {
            "application/vnd.google.colaboratory.intrinsic+json": {
              "type": "string"
            },
            "text/plain": [
              "'hello'"
            ]
          },
          "metadata": {
            "tags": []
          },
          "execution_count": 14
        }
      ]
    },
    {
      "cell_type": "code",
      "metadata": {
        "colab": {
          "base_uri": "https://localhost:8080/"
        },
        "id": "P6Yn6ClxNBSF",
        "outputId": "a0cbb758-a44b-472a-bd77-a344dfa5b474"
      },
      "source": [
        "type(num)"
      ],
      "execution_count": null,
      "outputs": [
        {
          "output_type": "execute_result",
          "data": {
            "text/plain": [
              "str"
            ]
          },
          "metadata": {
            "tags": []
          },
          "execution_count": 15
        }
      ]
    },
    {
      "cell_type": "code",
      "metadata": {
        "colab": {
          "base_uri": "https://localhost:8080/",
          "height": 52
        },
        "id": "jlnqXeayNEhh",
        "outputId": "46b51078-8781-4bec-8d9f-172e620c3566"
      },
      "source": [
        "num = input()\r\n",
        "num"
      ],
      "execution_count": null,
      "outputs": [
        {
          "output_type": "stream",
          "text": [
            "6\n"
          ],
          "name": "stdout"
        },
        {
          "output_type": "execute_result",
          "data": {
            "application/vnd.google.colaboratory.intrinsic+json": {
              "type": "string"
            },
            "text/plain": [
              "'6'"
            ]
          },
          "metadata": {
            "tags": []
          },
          "execution_count": 16
        }
      ]
    },
    {
      "cell_type": "code",
      "metadata": {
        "colab": {
          "base_uri": "https://localhost:8080/",
          "height": 52
        },
        "id": "F51MG6wfNWzv",
        "outputId": "ee161fed-e477-4c26-8ed7-67b100b1e64e"
      },
      "source": [
        "#input take as string\r\n",
        "num = input()\r\n",
        "num"
      ],
      "execution_count": null,
      "outputs": [
        {
          "output_type": "stream",
          "text": [
            "2\n"
          ],
          "name": "stdout"
        },
        {
          "output_type": "execute_result",
          "data": {
            "application/vnd.google.colaboratory.intrinsic+json": {
              "type": "string"
            },
            "text/plain": [
              "'2'"
            ]
          },
          "metadata": {
            "tags": []
          },
          "execution_count": 17
        }
      ]
    },
    {
      "cell_type": "code",
      "metadata": {
        "colab": {
          "base_uri": "https://localhost:8080/"
        },
        "id": "HYdOl9iLNg30",
        "outputId": "e345cf25-16c3-4d6d-8ace-cf196514a6d1"
      },
      "source": [
        "#Type casting , str -> int\r\n",
        "num = int(input())\r\n",
        "num"
      ],
      "execution_count": null,
      "outputs": [
        {
          "output_type": "stream",
          "text": [
            "10\n"
          ],
          "name": "stdout"
        },
        {
          "output_type": "execute_result",
          "data": {
            "text/plain": [
              "10"
            ]
          },
          "metadata": {
            "tags": []
          },
          "execution_count": 18
        }
      ]
    },
    {
      "cell_type": "code",
      "metadata": {
        "colab": {
          "base_uri": "https://localhost:8080/"
        },
        "id": "Cj5707PqN6SK",
        "outputId": "31a271fc-62c9-4f7c-dd92-36588bd7c23a"
      },
      "source": [
        "num  = int(input(\" enter integer \"))\r\n",
        "num"
      ],
      "execution_count": null,
      "outputs": [
        {
          "output_type": "stream",
          "text": [
            "enter integer23\n"
          ],
          "name": "stdout"
        },
        {
          "output_type": "execute_result",
          "data": {
            "text/plain": [
              "23"
            ]
          },
          "metadata": {
            "tags": []
          },
          "execution_count": 19
        }
      ]
    },
    {
      "cell_type": "code",
      "metadata": {
        "colab": {
          "base_uri": "https://localhost:8080/"
        },
        "id": "QKspP41sOiQ2",
        "outputId": "99aea835-9361-4078-c551-85dd3abfb370"
      },
      "source": [
        "num = float(input(\"enter float number \"))\r\n",
        "num\r\n"
      ],
      "execution_count": null,
      "outputs": [
        {
          "output_type": "stream",
          "text": [
            "enter float number 4.5555\n"
          ],
          "name": "stdout"
        },
        {
          "output_type": "execute_result",
          "data": {
            "text/plain": [
              "4.5555"
            ]
          },
          "metadata": {
            "tags": []
          },
          "execution_count": 21
        }
      ]
    },
    {
      "cell_type": "code",
      "metadata": {
        "colab": {
          "base_uri": "https://localhost:8080/"
        },
        "id": "X5AaaQ9DOwtU",
        "outputId": "c691e3f7-dfeb-4ff1-a4d9-8c4ec78e2c64"
      },
      "source": [
        "#Arithmetic operations\r\n",
        "#addition\r\n",
        "3+3"
      ],
      "execution_count": null,
      "outputs": [
        {
          "output_type": "execute_result",
          "data": {
            "text/plain": [
              "6"
            ]
          },
          "metadata": {
            "tags": []
          },
          "execution_count": 22
        }
      ]
    },
    {
      "cell_type": "code",
      "metadata": {
        "colab": {
          "base_uri": "https://localhost:8080/"
        },
        "id": "q42mTFxTPLrl",
        "outputId": "bab65a6f-1da9-45a3-9718-17f5a07c2f1b"
      },
      "source": [
        "#subtraction \r\n",
        "3-2"
      ],
      "execution_count": null,
      "outputs": [
        {
          "output_type": "execute_result",
          "data": {
            "text/plain": [
              "1"
            ]
          },
          "metadata": {
            "tags": []
          },
          "execution_count": 24
        }
      ]
    },
    {
      "cell_type": "code",
      "metadata": {
        "colab": {
          "base_uri": "https://localhost:8080/"
        },
        "id": "9TxzL9yuPNJW",
        "outputId": "0e4d97b0-43af-4329-9054-a0cedcca6ac7"
      },
      "source": [
        "#multiplication\r\n",
        "3*3"
      ],
      "execution_count": null,
      "outputs": [
        {
          "output_type": "execute_result",
          "data": {
            "text/plain": [
              "9"
            ]
          },
          "metadata": {
            "tags": []
          },
          "execution_count": 26
        }
      ]
    },
    {
      "cell_type": "code",
      "metadata": {
        "colab": {
          "base_uri": "https://localhost:8080/"
        },
        "id": "L-uS7c38PQwH",
        "outputId": "14e1a94a-7789-434e-dc4a-38a44713f799"
      },
      "source": [
        "#division\r\n",
        "3/2"
      ],
      "execution_count": null,
      "outputs": [
        {
          "output_type": "execute_result",
          "data": {
            "text/plain": [
              "1.5"
            ]
          },
          "metadata": {
            "tags": []
          },
          "execution_count": 27
        }
      ]
    },
    {
      "cell_type": "code",
      "metadata": {
        "colab": {
          "base_uri": "https://localhost:8080/"
        },
        "id": "jniuizk4PVYV",
        "outputId": "2183b3ba-4803-4e8f-a0d7-f63f3a0d8e0d"
      },
      "source": [
        "num = 1.5\r\n",
        "type(num)"
      ],
      "execution_count": null,
      "outputs": [
        {
          "output_type": "execute_result",
          "data": {
            "text/plain": [
              "float"
            ]
          },
          "metadata": {
            "tags": []
          },
          "execution_count": 28
        }
      ]
    },
    {
      "cell_type": "code",
      "metadata": {
        "colab": {
          "base_uri": "https://localhost:8080/"
        },
        "id": "uS18tcjWPZDB",
        "outputId": "987fd93c-40c3-41d6-95ac-9bb75de16929"
      },
      "source": [
        "#tells what are numerators and denomenators\r\n",
        "num.as_integer_ratio()"
      ],
      "execution_count": null,
      "outputs": [
        {
          "output_type": "execute_result",
          "data": {
            "text/plain": [
              "(3, 2)"
            ]
          },
          "metadata": {
            "tags": []
          },
          "execution_count": 29
        }
      ]
    },
    {
      "cell_type": "code",
      "metadata": {
        "colab": {
          "base_uri": "https://localhost:8080/"
        },
        "id": "0taay9nKPdcz",
        "outputId": "6872d13c-bfed-4352-bf0b-4a731bd89b4f"
      },
      "source": [
        "#floor division\r\n",
        "3 // 2"
      ],
      "execution_count": null,
      "outputs": [
        {
          "output_type": "execute_result",
          "data": {
            "text/plain": [
              "1"
            ]
          },
          "metadata": {
            "tags": []
          },
          "execution_count": 31
        }
      ]
    },
    {
      "cell_type": "code",
      "metadata": {
        "colab": {
          "base_uri": "https://localhost:8080/"
        },
        "id": "BavEFzWcPxeL",
        "outputId": "245ed25a-df4e-408b-f0de-6cc7194cea31"
      },
      "source": [
        "# Remainder of division (Modulus)\r\n",
        "13 % 3\r\n",
        "\r\n",
        "#13/2 = 2 * 6 = 12 + 1 => Quotient = 6 ,  Remainder = 1"
      ],
      "execution_count": null,
      "outputs": [
        {
          "output_type": "execute_result",
          "data": {
            "text/plain": [
              "1"
            ]
          },
          "metadata": {
            "tags": []
          },
          "execution_count": 32
        }
      ]
    },
    {
      "cell_type": "code",
      "metadata": {
        "colab": {
          "base_uri": "https://localhost:8080/"
        },
        "id": "VYm9T-GFP_53",
        "outputId": "813a4905-6929-4dbd-e2a4-9b029ec1aa36"
      },
      "source": [
        "#Exponential (power up)\r\n",
        "2 ** 3\r\n"
      ],
      "execution_count": null,
      "outputs": [
        {
          "output_type": "execute_result",
          "data": {
            "text/plain": [
              "8"
            ]
          },
          "metadata": {
            "tags": []
          },
          "execution_count": 36
        }
      ]
    },
    {
      "cell_type": "code",
      "metadata": {
        "colab": {
          "base_uri": "https://localhost:8080/"
        },
        "id": "Xm4lZ8GIQHhK",
        "outputId": "99f03b1f-ef2f-44b2-a7bb-9619ac024f26"
      },
      "source": [
        "#Comparison\r\n",
        "# = => assign value\r\n",
        "# == => check value\r\n",
        "num = 5\r\n",
        "print(num == 5 ) "
      ],
      "execution_count": null,
      "outputs": [
        {
          "output_type": "stream",
          "text": [
            "True\n"
          ],
          "name": "stdout"
        }
      ]
    },
    {
      "cell_type": "code",
      "metadata": {
        "colab": {
          "base_uri": "https://localhost:8080/"
        },
        "id": "IenDRt7yQX1q",
        "outputId": "0ec7e1d8-691d-4700-8f1a-008a7a68d6a7"
      },
      "source": [
        "#Not Comparison\r\n",
        "\r\n",
        "print( num != 4)"
      ],
      "execution_count": null,
      "outputs": [
        {
          "output_type": "stream",
          "text": [
            "True\n"
          ],
          "name": "stdout"
        }
      ]
    },
    {
      "cell_type": "code",
      "metadata": {
        "colab": {
          "base_uri": "https://localhost:8080/"
        },
        "id": "thT73AEJRGQQ",
        "outputId": "7d396bc3-332b-4453-cc11-baf49d78c334"
      },
      "source": [
        " # Less than / less than equals to\r\n",
        "\r\n",
        " print(num < 10)\r\n",
        " print (num <=3)"
      ],
      "execution_count": null,
      "outputs": [
        {
          "output_type": "stream",
          "text": [
            "True\n",
            "False\n"
          ],
          "name": "stdout"
        }
      ]
    },
    {
      "cell_type": "code",
      "metadata": {
        "colab": {
          "base_uri": "https://localhost:8080/"
        },
        "id": "YZTVERQWRUNw",
        "outputId": "23b47655-0d45-4566-81a2-d8ceec96da54"
      },
      "source": [
        "#Greater than greater tha equals to\r\n",
        "\r\n",
        "print(num > 2)\r\n",
        "print(num >=7)"
      ],
      "execution_count": null,
      "outputs": [
        {
          "output_type": "stream",
          "text": [
            "True\n",
            "False\n"
          ],
          "name": "stdout"
        }
      ]
    },
    {
      "cell_type": "code",
      "metadata": {
        "colab": {
          "base_uri": "https://localhost:8080/"
        },
        "id": "nhcVUuw_ReAD",
        "outputId": "be0d8795-7c3f-44fc-a335-6ec97ba9bccf"
      },
      "source": [
        "# Arithmatic Equals to\r\n",
        "num = 5 \r\n",
        "num += 3\r\n",
        "num"
      ],
      "execution_count": null,
      "outputs": [
        {
          "output_type": "execute_result",
          "data": {
            "text/plain": [
              "8"
            ]
          },
          "metadata": {
            "tags": []
          },
          "execution_count": 45
        }
      ]
    },
    {
      "cell_type": "code",
      "metadata": {
        "colab": {
          "base_uri": "https://localhost:8080/"
        },
        "id": "BPcSiuD1Rkv8",
        "outputId": "9b2352a5-8479-4cde-8e10-be2b0ae4c0a1"
      },
      "source": [
        "num -= 2\r\n",
        "num "
      ],
      "execution_count": null,
      "outputs": [
        {
          "output_type": "execute_result",
          "data": {
            "text/plain": [
              "6"
            ]
          },
          "metadata": {
            "tags": []
          },
          "execution_count": 46
        }
      ]
    },
    {
      "cell_type": "code",
      "metadata": {
        "colab": {
          "base_uri": "https://localhost:8080/"
        },
        "id": "2IEeKzgDRskx",
        "outputId": "bd8c77c6-1249-46e1-d1a5-730d142ef55c"
      },
      "source": [
        "num *=3\r\n",
        "num"
      ],
      "execution_count": null,
      "outputs": [
        {
          "output_type": "execute_result",
          "data": {
            "text/plain": [
              "18"
            ]
          },
          "metadata": {
            "tags": []
          },
          "execution_count": 47
        }
      ]
    },
    {
      "cell_type": "code",
      "metadata": {
        "colab": {
          "base_uri": "https://localhost:8080/"
        },
        "id": "fn-nXe7HRx27",
        "outputId": "7407a904-4073-454d-c174-e9a13f6ba964"
      },
      "source": [
        "num /= 6\r\n",
        "num"
      ],
      "execution_count": null,
      "outputs": [
        {
          "output_type": "execute_result",
          "data": {
            "text/plain": [
              "0.5"
            ]
          },
          "metadata": {
            "tags": []
          },
          "execution_count": 49
        }
      ]
    },
    {
      "cell_type": "code",
      "metadata": {
        "colab": {
          "base_uri": "https://localhost:8080/"
        },
        "id": "NMJc16XIRz3f",
        "outputId": "62991bd5-31d4-47bc-eadd-6c9f7a57fe9b"
      },
      "source": [
        "### conditional \r\n",
        "\r\n",
        "##even odd example \r\n",
        "\r\n",
        "num = int(input(\"Enter a number \"))\r\n",
        "print()\r\n",
        "if(num % 2 == 0):\r\n",
        "  print(num , \"is even \")\r\n",
        "else:\r\n",
        "  print(num , \"is odd \")\r\n",
        "\r\n",
        "print()\r\n",
        "print(\"EVEN/ODD program is done\")\r\n"
      ],
      "execution_count": null,
      "outputs": [
        {
          "output_type": "stream",
          "text": [
            "Enter a number 5\n",
            "\n",
            "5 is odd \n",
            "\n",
            "EVEN/ODD program is done\n"
          ],
          "name": "stdout"
        }
      ]
    },
    {
      "cell_type": "code",
      "metadata": {
        "colab": {
          "base_uri": "https://localhost:8080/"
        },
        "id": "l4QwhHelTp_8",
        "outputId": "2ebcf10d-476d-45a4-8de4-0144f2d21fe2"
      },
      "source": [
        "num = int(input(\" Enter a number \"))\r\n",
        "\r\n",
        "if num > 2 : \r\n",
        "  print(\" Number is greater than 2 \")\r\n",
        "elif num < 2:\r\n",
        "  print(\" Number is less than 2 \")\r\n",
        "else:\r\n",
        "  print(\" Number is same \")"
      ],
      "execution_count": null,
      "outputs": [
        {
          "output_type": "stream",
          "text": [
            " Enter a number 4\n",
            " Number is greater than 2 \n"
          ],
          "name": "stdout"
        }
      ]
    },
    {
      "cell_type": "code",
      "metadata": {
        "colab": {
          "base_uri": "https://localhost:8080/"
        },
        "id": "vL1YVhD8V9N3",
        "outputId": "0f609a63-c6c9-4b4f-b6c4-f6b60a4a4281"
      },
      "source": [
        "marks  = int(input(\" Enter Marks \"))\r\n",
        "if marks >=85 :\r\n",
        "  print(\" A or A+ \")\r\n",
        "elif marks >= 50:\r\n",
        "  print(\" Passs HUHS \")\r\n",
        "else:\r\n",
        "  print(\"F\")\r\n",
        "\r\n",
        "\r\n"
      ],
      "execution_count": null,
      "outputs": [
        {
          "output_type": "stream",
          "text": [
            " Enter Marks 6\n",
            "F\n"
          ],
          "name": "stdout"
        }
      ]
    },
    {
      "cell_type": "code",
      "metadata": {
        "id": "DwWVUooJXHy0"
      },
      "source": [
        "#terminary conditional"
      ],
      "execution_count": null,
      "outputs": []
    },
    {
      "cell_type": "code",
      "metadata": {
        "colab": {
          "base_uri": "https://localhost:8080/"
        },
        "id": "ive5YWzmYGwT",
        "outputId": "a86fb211-fd28-46de-f50c-df0502b5c427"
      },
      "source": [
        "marks = int(input(\"enter marks \"))\r\n",
        "print(\"passed the exam\") if(marks >=50) else print(\"F\")"
      ],
      "execution_count": null,
      "outputs": [
        {
          "output_type": "stream",
          "text": [
            "enter marks 7\n",
            "F\n"
          ],
          "name": "stdout"
        }
      ]
    },
    {
      "cell_type": "code",
      "metadata": {
        "colab": {
          "base_uri": "https://localhost:8080/"
        },
        "id": "9gEXe5wRYUbM",
        "outputId": "982762a5-f258-4fee-a2be-f82bcf6b5920"
      },
      "source": [
        "#Iteration ( loops : For while)\r\n",
        "#for loop\r\n",
        "\r\n",
        "for i in range(11): #range(start , end , step)\r\n",
        "    print(i)"
      ],
      "execution_count": null,
      "outputs": [
        {
          "output_type": "stream",
          "text": [
            "0\n",
            "1\n",
            "2\n",
            "3\n",
            "4\n",
            "5\n",
            "6\n",
            "7\n",
            "8\n",
            "9\n",
            "10\n"
          ],
          "name": "stdout"
        }
      ]
    },
    {
      "cell_type": "code",
      "metadata": {
        "colab": {
          "base_uri": "https://localhost:8080/"
        },
        "id": "Mf3UbY9jY3Jl",
        "outputId": "d22e9de0-8ef3-43e0-eda7-bcf50496eaee"
      },
      "source": [
        "for i in range(10 , 4 ,-1):\r\n",
        "  print(i)"
      ],
      "execution_count": null,
      "outputs": [
        {
          "output_type": "stream",
          "text": [
            "10\n",
            "9\n",
            "8\n",
            "7\n",
            "6\n",
            "5\n"
          ],
          "name": "stdout"
        }
      ]
    },
    {
      "cell_type": "code",
      "metadata": {
        "colab": {
          "base_uri": "https://localhost:8080/"
        },
        "id": "f_yaqFnSbo8a",
        "outputId": "97c9747e-2f3d-4980-e654-38ee61d6008a"
      },
      "source": [
        "#while loop execution time faster than for loop\r\n",
        "i=0\r\n",
        "while(i < 10):\r\n",
        "  print(i)\r\n",
        "  i +=1"
      ],
      "execution_count": 86,
      "outputs": [
        {
          "output_type": "stream",
          "text": [
            "0\n",
            "1\n",
            "2\n",
            "3\n",
            "4\n",
            "5\n",
            "6\n",
            "7\n",
            "8\n",
            "9\n"
          ],
          "name": "stdout"
        }
      ]
    },
    {
      "cell_type": "code",
      "metadata": {
        "colab": {
          "base_uri": "https://localhost:8080/"
        },
        "id": "RWC5zFDlcVz8",
        "outputId": "478d3c63-1874-489c-a32d-5cf406eb8109"
      },
      "source": [
        "i = 0\r\n",
        "while ( i<=10):\r\n",
        "  print(i)\r\n",
        "  i +=1"
      ],
      "execution_count": null,
      "outputs": [
        {
          "output_type": "stream",
          "text": [
            "0\n",
            "1\n",
            "2\n",
            "3\n",
            "4\n",
            "5\n",
            "6\n",
            "7\n",
            "8\n",
            "9\n",
            "10\n"
          ],
          "name": "stdout"
        }
      ]
    },
    {
      "cell_type": "code",
      "metadata": {
        "colab": {
          "base_uri": "https://localhost:8080/"
        },
        "id": "sPXVZ2DqcMk0",
        "outputId": "359e4cc8-39ac-4c74-93db-4c4d5c7fee48"
      },
      "source": [
        "i = 10\r\n",
        "while (i >=5):\r\n",
        "  print(i)\r\n",
        "  i-=1"
      ],
      "execution_count": null,
      "outputs": [
        {
          "output_type": "stream",
          "text": [
            "10\n",
            "9\n",
            "8\n",
            "7\n",
            "6\n",
            "5\n"
          ],
          "name": "stdout"
        }
      ]
    },
    {
      "cell_type": "code",
      "metadata": {
        "id": "1IP2-LDUfkh-",
        "colab": {
          "base_uri": "https://localhost:8080/"
        },
        "outputId": "e2e68722-3a54-41db-93f4-d37e1131b700"
      },
      "source": [
        "#nested loop\r\n",
        "for i in range(1 , 5):\r\n",
        "  for j in range(i , 5):\r\n",
        "    print(j)\r\n",
        "  print(\"=================\")\r\n",
        "\r\n"
      ],
      "execution_count": 91,
      "outputs": [
        {
          "output_type": "stream",
          "text": [
            "1\n",
            "2\n",
            "3\n",
            "4\n",
            "=================\n",
            "2\n",
            "3\n",
            "4\n",
            "=================\n",
            "3\n",
            "4\n",
            "=================\n",
            "4\n",
            "=================\n"
          ],
          "name": "stdout"
        }
      ]
    },
    {
      "cell_type": "code",
      "metadata": {
        "id": "NngwDrsWdNzV"
      },
      "source": [
        "#pass statement\r\n",
        "i=10\r\n",
        "if (i == 10):\r\n",
        "  pass"
      ],
      "execution_count": 92,
      "outputs": []
    },
    {
      "cell_type": "code",
      "metadata": {
        "colab": {
          "base_uri": "https://localhost:8080/"
        },
        "id": "IKh2iij1krST",
        "outputId": "b8280cdb-9ecf-40ef-d0e1-93db937ea11c"
      },
      "source": [
        "#short circuiting => logical operator in conditional\r\n",
        "num = 2\r\n",
        "if ( (num > 0 ) and (num % 2 == 0) ):\r\n",
        "  print(\"Satisfied Conditions\")\r\n",
        "else:\r\n",
        "  print(\"Does not satisfy both conditions\")"
      ],
      "execution_count": 96,
      "outputs": [
        {
          "output_type": "stream",
          "text": [
            "Satisfied Conditions\n"
          ],
          "name": "stdout"
        }
      ]
    },
    {
      "cell_type": "code",
      "metadata": {
        "colab": {
          "base_uri": "https://localhost:8080/"
        },
        "id": "boYno_Xclrbw",
        "outputId": "5136dc2b-f7fb-437d-8230-7846a5b5b087"
      },
      "source": [
        "#Functions\r\n",
        "\r\n",
        "#no paramaters and no return statement\r\n",
        "def func(): #def functionName (paramters = declaration/argumnets = calling)\r\n",
        "    print(\"hello\")\r\n",
        "\r\n",
        "func()  "
      ],
      "execution_count": 97,
      "outputs": [
        {
          "output_type": "stream",
          "text": [
            "hello\n"
          ],
          "name": "stdout"
        }
      ]
    },
    {
      "cell_type": "code",
      "metadata": {
        "colab": {
          "base_uri": "https://localhost:8080/"
        },
        "id": "dheC_SVfn3wr",
        "outputId": "a4285297-65d9-4cf7-c90e-3f8881b1cdc6"
      },
      "source": [
        "#func with parameters and return statement\r\n",
        "def addNums(a , b):\r\n",
        "  return a+b\r\n",
        "\r\n",
        "addNums(4,5)"
      ],
      "execution_count": 98,
      "outputs": [
        {
          "output_type": "execute_result",
          "data": {
            "text/plain": [
              "9"
            ]
          },
          "metadata": {
            "tags": []
          },
          "execution_count": 98
        }
      ]
    },
    {
      "cell_type": "code",
      "metadata": {
        "colab": {
          "base_uri": "https://localhost:8080/"
        },
        "id": "6xAPvvUPn_rx",
        "outputId": "11f3cdb6-ae81-452e-d77c-1a3f0019465f"
      },
      "source": [
        "#func with param and no return statement\r\n",
        "def displayNum(a):\r\n",
        "  print(a)\r\n",
        "\r\n",
        "displayNum(3)\r\n",
        "\r\n"
      ],
      "execution_count": 100,
      "outputs": [
        {
          "output_type": "stream",
          "text": [
            "3\n"
          ],
          "name": "stdout"
        }
      ]
    },
    {
      "cell_type": "code",
      "metadata": {
        "colab": {
          "base_uri": "https://localhost:8080/"
        },
        "id": "YwJHI9iLoXRg",
        "outputId": "5af47923-a921-4fdf-8b86-dc0c877ee93f"
      },
      "source": [
        "#fuc with no parameters and with return statement\r\n",
        "\r\n",
        "def returnVal():\r\n",
        "  return 5\r\n",
        "\r\n",
        "num = returnVal()\r\n",
        "num"
      ],
      "execution_count": 101,
      "outputs": [
        {
          "output_type": "execute_result",
          "data": {
            "text/plain": [
              "5"
            ]
          },
          "metadata": {
            "tags": []
          },
          "execution_count": 101
        }
      ]
    },
    {
      "cell_type": "code",
      "metadata": {
        "id": "mNcvhc2coo86"
      },
      "source": [
        ""
      ],
      "execution_count": null,
      "outputs": []
    }
  ]
}